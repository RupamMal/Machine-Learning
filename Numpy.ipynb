{
 "cells": [
  {
   "cell_type": "code",
   "execution_count": 1,
   "id": "f28ac46d",
   "metadata": {},
   "outputs": [
    {
     "name": "stdout",
     "output_type": "stream",
     "text": [
      "hello sir\n"
     ]
    }
   ],
   "source": [
    "print(\"hello sir\")"
   ]
  },
  {
   "cell_type": "code",
   "execution_count": 14,
   "id": "c73e48eb",
   "metadata": {},
   "outputs": [],
   "source": [
    "# creating numpy / nd arrays\n",
    "import numpy as np"
   ]
  },
  {
   "cell_type": "code",
   "execution_count": 3,
   "id": "6463449a",
   "metadata": {},
   "outputs": [
    {
     "data": {
      "text/plain": [
       "array([1, 2, 3, 4, 5])"
      ]
     },
     "execution_count": 3,
     "metadata": {},
     "output_type": "execute_result"
    }
   ],
   "source": [
    "arr1 = np.array([1,2,3,4,5])\n",
    "arr1"
   ]
  },
  {
   "cell_type": "code",
   "execution_count": 4,
   "id": "c94e2ce1",
   "metadata": {},
   "outputs": [
    {
     "data": {
      "text/plain": [
       "numpy.ndarray"
      ]
     },
     "execution_count": 4,
     "metadata": {},
     "output_type": "execute_result"
    }
   ],
   "source": [
    "type(arr1)"
   ]
  },
  {
   "cell_type": "code",
   "execution_count": 6,
   "id": "8a6ebd31",
   "metadata": {},
   "outputs": [
    {
     "data": {
      "text/plain": [
       "array([[1, 2, 3],\n",
       "       [4, 5, 6]])"
      ]
     },
     "execution_count": 6,
     "metadata": {},
     "output_type": "execute_result"
    }
   ],
   "source": [
    "arr2 = np.array([[1,2,3],[4,5,6]])\n",
    "arr2"
   ]
  },
  {
   "cell_type": "code",
   "execution_count": 7,
   "id": "91bda7e0",
   "metadata": {},
   "outputs": [
    {
     "data": {
      "text/plain": [
       "array([[0., 0., 0.],\n",
       "       [0., 0., 0.]])"
      ]
     },
     "execution_count": 7,
     "metadata": {},
     "output_type": "execute_result"
    }
   ],
   "source": [
    "arr3 = np.zeros((2,3))\n",
    "arr3"
   ]
  },
  {
   "cell_type": "code",
   "execution_count": 9,
   "id": "d171347b",
   "metadata": {},
   "outputs": [
    {
     "data": {
      "text/plain": [
       "array([[1., 1., 1.],\n",
       "       [1., 1., 1.],\n",
       "       [1., 1., 1.]])"
      ]
     },
     "execution_count": 9,
     "metadata": {},
     "output_type": "execute_result"
    }
   ],
   "source": [
    "arr3 = np.ones((3,3))\n",
    "arr3"
   ]
  },
  {
   "cell_type": "code",
   "execution_count": 10,
   "id": "6e022531",
   "metadata": {},
   "outputs": [
    {
     "data": {
      "text/plain": [
       "numpy.ndarray"
      ]
     },
     "execution_count": 10,
     "metadata": {},
     "output_type": "execute_result"
    }
   ],
   "source": [
    "type(arr3)"
   ]
  },
  {
   "cell_type": "code",
   "execution_count": 12,
   "id": "ed484b01",
   "metadata": {},
   "outputs": [
    {
     "data": {
      "text/plain": [
       "array([[1., 0., 0., 0., 0.],\n",
       "       [0., 1., 0., 0., 0.],\n",
       "       [0., 0., 1., 0., 0.],\n",
       "       [0., 0., 0., 1., 0.],\n",
       "       [0., 0., 0., 0., 1.]])"
      ]
     },
     "execution_count": 12,
     "metadata": {},
     "output_type": "execute_result"
    }
   ],
   "source": [
    "arr5 = np.identity(5)\n",
    "arr5"
   ]
  },
  {
   "cell_type": "code",
   "execution_count": 14,
   "id": "1452119d",
   "metadata": {},
   "outputs": [
    {
     "data": {
      "text/plain": [
       "array([0, 1, 2, 3, 4, 5, 6, 7, 8, 9])"
      ]
     },
     "execution_count": 14,
     "metadata": {},
     "output_type": "execute_result"
    }
   ],
   "source": [
    "arr6 = np.arange(10)\n",
    "arr6"
   ]
  },
  {
   "cell_type": "code",
   "execution_count": 16,
   "id": "2915ab2c",
   "metadata": {},
   "outputs": [
    {
     "data": {
      "text/plain": [
       "array([ 5,  6,  7,  8,  9, 10, 11, 12, 13, 14, 15])"
      ]
     },
     "execution_count": 16,
     "metadata": {},
     "output_type": "execute_result"
    }
   ],
   "source": [
    "arr6 = np.arange(5,16)\n",
    "arr6"
   ]
  },
  {
   "cell_type": "code",
   "execution_count": 17,
   "id": "61e5ed5e",
   "metadata": {},
   "outputs": [
    {
     "data": {
      "text/plain": [
       "array([ 5,  7,  9, 11, 13, 15])"
      ]
     },
     "execution_count": 17,
     "metadata": {},
     "output_type": "execute_result"
    }
   ],
   "source": [
    "arr6 = np.arange(5,16,2) \n",
    "arr6"
   ]
  },
  {
   "cell_type": "code",
   "execution_count": 18,
   "id": "8f46d94e",
   "metadata": {},
   "outputs": [
    {
     "data": {
      "text/plain": [
       "array([10.        , 11.11111111, 12.22222222, 13.33333333, 14.44444444,\n",
       "       15.55555556, 16.66666667, 17.77777778, 18.88888889, 20.        ])"
      ]
     },
     "execution_count": 18,
     "metadata": {},
     "output_type": "execute_result"
    }
   ],
   "source": [
    "arr7 = np.linspace(10,20,10)\n",
    "arr7"
   ]
  },
  {
   "cell_type": "code",
   "execution_count": 20,
   "id": "e14dd1c2",
   "metadata": {},
   "outputs": [
    {
     "data": {
      "text/plain": [
       "array([10.        , 11.11111111, 12.22222222, 13.33333333, 14.44444444,\n",
       "       15.55555556, 16.66666667, 17.77777778, 18.88888889, 20.        ])"
      ]
     },
     "execution_count": 20,
     "metadata": {},
     "output_type": "execute_result"
    }
   ],
   "source": [
    "arr8=arr7.copy()\n",
    "arr8"
   ]
  },
  {
   "cell_type": "code",
   "execution_count": 12,
   "id": "aa06909f",
   "metadata": {},
   "outputs": [],
   "source": [
    "import numpy as np"
   ]
  },
  {
   "cell_type": "code",
   "execution_count": 13,
   "id": "0ebc2f03",
   "metadata": {},
   "outputs": [
    {
     "data": {
      "text/plain": [
       "array([1, 2, 3, 4, 5])"
      ]
     },
     "execution_count": 13,
     "metadata": {},
     "output_type": "execute_result"
    }
   ],
   "source": [
    "arr1 = np.array([1,2,3,4,5])\n",
    "arr1"
   ]
  },
  {
   "cell_type": "code",
   "execution_count": 15,
   "id": "02ec0e70",
   "metadata": {},
   "outputs": [
    {
     "data": {
      "text/plain": [
       "(5,)"
      ]
     },
     "execution_count": 15,
     "metadata": {},
     "output_type": "execute_result"
    }
   ],
   "source": [
    "arr1.shape"
   ]
  },
  {
   "cell_type": "code",
   "execution_count": 17,
   "id": "011ad535",
   "metadata": {},
   "outputs": [
    {
     "data": {
      "text/plain": [
       "array([[1, 2, 3],\n",
       "       [4, 5, 6]])"
      ]
     },
     "execution_count": 17,
     "metadata": {},
     "output_type": "execute_result"
    }
   ],
   "source": [
    "arr2 = np.array([[1,2,3],[4,5,6]])\n",
    "arr2"
   ]
  },
  {
   "cell_type": "code",
   "execution_count": 18,
   "id": "f1160116",
   "metadata": {},
   "outputs": [
    {
     "data": {
      "text/plain": [
       "(2, 3)"
      ]
     },
     "execution_count": 18,
     "metadata": {},
     "output_type": "execute_result"
    }
   ],
   "source": [
    "arr2.shape"
   ]
  },
  {
   "cell_type": "code",
   "execution_count": 19,
   "id": "55189b2b",
   "metadata": {},
   "outputs": [
    {
     "data": {
      "text/plain": [
       "array([[[1, 2],\n",
       "        [3, 4]],\n",
       "\n",
       "       [[5, 6],\n",
       "        [7, 8]]])"
      ]
     },
     "execution_count": 19,
     "metadata": {},
     "output_type": "execute_result"
    }
   ],
   "source": [
    "arr9 = np.array([[[1,2],[3,4]],[[5,6],[7,8]]])\n",
    "arr9"
   ]
  },
  {
   "cell_type": "code",
   "execution_count": 36,
   "id": "95f49e27",
   "metadata": {},
   "outputs": [
    {
     "data": {
      "text/plain": [
       "(2, 3, 2)"
      ]
     },
     "execution_count": 36,
     "metadata": {},
     "output_type": "execute_result"
    }
   ],
   "source": [
    "arr9.shape"
   ]
  },
  {
   "cell_type": "code",
   "execution_count": 28,
   "id": "a97f3ecb",
   "metadata": {},
   "outputs": [
    {
     "data": {
      "text/plain": [
       "array([[[ 1,  2],\n",
       "        [ 3,  4],\n",
       "        [ 9, 10]],\n",
       "\n",
       "       [[ 5,  6],\n",
       "        [ 7,  8],\n",
       "        [11, 12]],\n",
       "\n",
       "       [[ 5,  6],\n",
       "        [ 7,  8],\n",
       "        [11, 12]],\n",
       "\n",
       "       [[ 5,  6],\n",
       "        [ 7,  8],\n",
       "        [11, 12]]])"
      ]
     },
     "execution_count": 28,
     "metadata": {},
     "output_type": "execute_result"
    }
   ],
   "source": [
    "arr10 = np.array([[[1,2],[3,4],[9,10]],[[5,6],[7,8],[11,12]],[[5,6],[7,8],[11,12]],[[5,6],[7,8],[11,12]]])\n",
    "arr10"
   ]
  },
  {
   "cell_type": "code",
   "execution_count": 29,
   "id": "c40bea7f",
   "metadata": {},
   "outputs": [
    {
     "data": {
      "text/plain": [
       "(4, 3, 2)"
      ]
     },
     "execution_count": 29,
     "metadata": {},
     "output_type": "execute_result"
    }
   ],
   "source": [
    "arr10.shape"
   ]
  },
  {
   "cell_type": "code",
   "execution_count": 31,
   "id": "ecfccdfb",
   "metadata": {},
   "outputs": [
    {
     "data": {
      "text/plain": [
       "3"
      ]
     },
     "execution_count": 31,
     "metadata": {},
     "output_type": "execute_result"
    }
   ],
   "source": [
    "arr10.ndim"
   ]
  },
  {
   "cell_type": "code",
   "execution_count": 32,
   "id": "0be685af",
   "metadata": {},
   "outputs": [
    {
     "data": {
      "text/plain": [
       "array([1, 2, 3, 4, 5])"
      ]
     },
     "execution_count": 32,
     "metadata": {},
     "output_type": "execute_result"
    }
   ],
   "source": [
    "arr1"
   ]
  },
  {
   "cell_type": "code",
   "execution_count": 33,
   "id": "484bacba",
   "metadata": {},
   "outputs": [
    {
     "data": {
      "text/plain": [
       "5"
      ]
     },
     "execution_count": 33,
     "metadata": {},
     "output_type": "execute_result"
    }
   ],
   "source": [
    "arr1.size"
   ]
  },
  {
   "cell_type": "code",
   "execution_count": 37,
   "id": "9cf798ef",
   "metadata": {},
   "outputs": [
    {
     "data": {
      "text/plain": [
       "array([[[1, 2],\n",
       "        [3, 4]],\n",
       "\n",
       "       [[5, 6],\n",
       "        [7, 8]]])"
      ]
     },
     "execution_count": 37,
     "metadata": {},
     "output_type": "execute_result"
    }
   ],
   "source": [
    "arr11 = np.array([[[1,2],[3,4]],[[5,6],[7,8]]])\n",
    "arr11"
   ]
  },
  {
   "cell_type": "code",
   "execution_count": 38,
   "id": "d1f49e26",
   "metadata": {},
   "outputs": [
    {
     "data": {
      "text/plain": [
       "8"
      ]
     },
     "execution_count": 38,
     "metadata": {},
     "output_type": "execute_result"
    }
   ],
   "source": [
    "arr11.size"
   ]
  },
  {
   "cell_type": "code",
   "execution_count": 39,
   "id": "4aa990f4",
   "metadata": {},
   "outputs": [
    {
     "data": {
      "text/plain": [
       "4"
      ]
     },
     "execution_count": 39,
     "metadata": {},
     "output_type": "execute_result"
    }
   ],
   "source": [
    "arr11.itemsize"
   ]
  },
  {
   "cell_type": "code",
   "execution_count": 40,
   "id": "aad894d8",
   "metadata": {},
   "outputs": [
    {
     "data": {
      "text/plain": [
       "4"
      ]
     },
     "execution_count": 40,
     "metadata": {},
     "output_type": "execute_result"
    }
   ],
   "source": [
    "arr10.itemsize #no of byte occupied"
   ]
  },
  {
   "cell_type": "code",
   "execution_count": 41,
   "id": "5a067233",
   "metadata": {},
   "outputs": [
    {
     "data": {
      "text/plain": [
       "array([10.        , 11.11111111, 12.22222222, 13.33333333, 14.44444444,\n",
       "       15.55555556, 16.66666667, 17.77777778, 18.88888889, 20.        ])"
      ]
     },
     "execution_count": 41,
     "metadata": {},
     "output_type": "execute_result"
    }
   ],
   "source": [
    "arr7 = np.linspace(10,20,10)\n",
    "arr7"
   ]
  },
  {
   "cell_type": "code",
   "execution_count": 42,
   "id": "26847d18",
   "metadata": {},
   "outputs": [
    {
     "data": {
      "text/plain": [
       "8"
      ]
     },
     "execution_count": 42,
     "metadata": {},
     "output_type": "execute_result"
    }
   ],
   "source": [
    "arr7.itemsize"
   ]
  },
  {
   "cell_type": "code",
   "execution_count": 44,
   "id": "d85322a2",
   "metadata": {},
   "outputs": [
    {
     "data": {
      "text/plain": [
       "dtype('float64')"
      ]
     },
     "execution_count": 44,
     "metadata": {},
     "output_type": "execute_result"
    }
   ],
   "source": [
    "arr7.dtype"
   ]
  },
  {
   "cell_type": "code",
   "execution_count": 45,
   "id": "fe4a402a",
   "metadata": {},
   "outputs": [
    {
     "data": {
      "text/plain": [
       "dtype('int32')"
      ]
     },
     "execution_count": 45,
     "metadata": {},
     "output_type": "execute_result"
    }
   ],
   "source": [
    "arr10.dtype"
   ]
  },
  {
   "cell_type": "code",
   "execution_count": 46,
   "id": "b7dd1e93",
   "metadata": {},
   "outputs": [
    {
     "data": {
      "text/plain": [
       "array([[[ 1.,  2.],\n",
       "        [ 3.,  4.],\n",
       "        [ 9., 10.]],\n",
       "\n",
       "       [[ 5.,  6.],\n",
       "        [ 7.,  8.],\n",
       "        [11., 12.]],\n",
       "\n",
       "       [[ 5.,  6.],\n",
       "        [ 7.,  8.],\n",
       "        [11., 12.]],\n",
       "\n",
       "       [[ 5.,  6.],\n",
       "        [ 7.,  8.],\n",
       "        [11., 12.]]])"
      ]
     },
     "execution_count": 46,
     "metadata": {},
     "output_type": "execute_result"
    }
   ],
   "source": [
    "arr10.astype('float')"
   ]
  },
  {
   "cell_type": "markdown",
   "id": "7e8d3fd8",
   "metadata": {},
   "source": [
    "# List vs arrays"
   ]
  },
  {
   "cell_type": "code",
   "execution_count": 47,
   "id": "dccdaef7",
   "metadata": {},
   "outputs": [],
   "source": [
    "import numpy as np"
   ]
  },
  {
   "cell_type": "code",
   "execution_count": 49,
   "id": "cd059303",
   "metadata": {},
   "outputs": [],
   "source": [
    "lista = range(100)\n",
    "arr11 = np.arange(100)"
   ]
  },
  {
   "cell_type": "code",
   "execution_count": 50,
   "id": "aadeda62",
   "metadata": {},
   "outputs": [],
   "source": [
    "import sys"
   ]
  },
  {
   "cell_type": "code",
   "execution_count": 52,
   "id": "f4f45450",
   "metadata": {},
   "outputs": [
    {
     "name": "stdout",
     "output_type": "stream",
     "text": [
      "2800\n"
     ]
    }
   ],
   "source": [
    "print(sys.getsizeof(65)*len(lista))"
   ]
  },
  {
   "cell_type": "code",
   "execution_count": 53,
   "id": "e6e5195a",
   "metadata": {},
   "outputs": [
    {
     "name": "stdout",
     "output_type": "stream",
     "text": [
      "400\n"
     ]
    }
   ],
   "source": [
    "print(arr11.itemsize*arr11.size)"
   ]
  },
  {
   "cell_type": "code",
   "execution_count": 55,
   "id": "f0dd8532",
   "metadata": {},
   "outputs": [],
   "source": [
    " import time"
   ]
  },
  {
   "cell_type": "code",
   "execution_count": 65,
   "id": "39f9b20a",
   "metadata": {},
   "outputs": [
    {
     "name": "stdout",
     "output_type": "stream",
     "text": [
      "0.010001420974731445\n"
     ]
    }
   ],
   "source": [
    "x = range(100000)\n",
    "y = range(100000,200000)\n",
    "\n",
    "start_time = time.time()\n",
    "\n",
    "c = [x+y for x,y in zip(x,y)]\n",
    "\n",
    "print(time.time() - start_time)"
   ]
  },
  {
   "cell_type": "code",
   "execution_count": 66,
   "id": "05538967",
   "metadata": {},
   "outputs": [
    {
     "name": "stdout",
     "output_type": "stream",
     "text": [
      "0.0020003318786621094\n"
     ]
    }
   ],
   "source": [
    "a = np.arange(100000)\n",
    "b = np.arange(100000,200000)\n",
    "\n",
    "start_time = time.time()\n",
    "c = a+b\n",
    "\n",
    "print(time.time() - start_time)"
   ]
  },
  {
   "cell_type": "markdown",
   "id": "e59ebc82",
   "metadata": {},
   "source": [
    "# Indexing, Slicing and Iteration"
   ]
  },
  {
   "cell_type": "code",
   "execution_count": 69,
   "id": "9c7dec3b",
   "metadata": {},
   "outputs": [
    {
     "data": {
      "text/plain": [
       "array([[ 0,  1,  2,  3],\n",
       "       [ 4,  5,  6,  7],\n",
       "       [ 8,  9, 10, 11],\n",
       "       [12, 13, 14, 15],\n",
       "       [16, 17, 18, 19],\n",
       "       [20, 21, 22, 23]])"
      ]
     },
     "execution_count": 69,
     "metadata": {},
     "output_type": "execute_result"
    }
   ],
   "source": [
    "arr12 = np.arange(24).reshape(6,4) #6 rows and 4 colm\n",
    "arr12"
   ]
  },
  {
   "cell_type": "code",
   "execution_count": 88,
   "id": "9707eb8a",
   "metadata": {},
   "outputs": [
    {
     "data": {
      "text/plain": [
       "array([ 2,  6, 10, 14, 18, 22])"
      ]
     },
     "execution_count": 88,
     "metadata": {},
     "output_type": "execute_result"
    }
   ],
   "source": [
    "arr12[:,2]"
   ]
  },
  {
   "cell_type": "code",
   "execution_count": 90,
   "id": "567b6f6e",
   "metadata": {},
   "outputs": [
    {
     "data": {
      "text/plain": [
       "array([[ 1,  2],\n",
       "       [ 5,  6],\n",
       "       [ 9, 10],\n",
       "       [13, 14],\n",
       "       [17, 18],\n",
       "       [21, 22]])"
      ]
     },
     "execution_count": 90,
     "metadata": {},
     "output_type": "execute_result"
    }
   ],
   "source": [
    "arr12[:,1:3]"
   ]
  },
  {
   "cell_type": "code",
   "execution_count": 93,
   "id": "ff744408",
   "metadata": {},
   "outputs": [
    {
     "data": {
      "text/plain": [
       "array([[ 9, 10],\n",
       "       [13, 14]])"
      ]
     },
     "execution_count": 93,
     "metadata": {},
     "output_type": "execute_result"
    }
   ],
   "source": [
    "arr12[2:4,1:3]"
   ]
  },
  {
   "cell_type": "code",
   "execution_count": 94,
   "id": "15de2e85",
   "metadata": {},
   "outputs": [
    {
     "data": {
      "text/plain": [
       "array([[18, 19],\n",
       "       [22, 23]])"
      ]
     },
     "execution_count": 94,
     "metadata": {},
     "output_type": "execute_result"
    }
   ],
   "source": [
    "arr12[4:6,2:4]"
   ]
  },
  {
   "cell_type": "code",
   "execution_count": 95,
   "id": "89fc6006",
   "metadata": {},
   "outputs": [
    {
     "data": {
      "text/plain": [
       "array([[18, 19],\n",
       "       [22, 23]])"
      ]
     },
     "execution_count": 95,
     "metadata": {},
     "output_type": "execute_result"
    }
   ],
   "source": [
    "arr12[4:,2:]"
   ]
  },
  {
   "cell_type": "code",
   "execution_count": 96,
   "id": "cd25b1a9",
   "metadata": {},
   "outputs": [
    {
     "name": "stdout",
     "output_type": "stream",
     "text": [
      "[0 1 2 3]\n",
      "[4 5 6 7]\n",
      "[ 8  9 10 11]\n",
      "[12 13 14 15]\n",
      "[16 17 18 19]\n",
      "[20 21 22 23]\n"
     ]
    }
   ],
   "source": [
    "for i in arr12:\n",
    "    print(i)"
   ]
  },
  {
   "cell_type": "code",
   "execution_count": 97,
   "id": "9ddc3494",
   "metadata": {},
   "outputs": [
    {
     "name": "stdout",
     "output_type": "stream",
     "text": [
      "0\n",
      "1\n",
      "2\n",
      "3\n",
      "4\n",
      "5\n",
      "6\n",
      "7\n",
      "8\n",
      "9\n",
      "10\n",
      "11\n",
      "12\n",
      "13\n",
      "14\n",
      "15\n",
      "16\n",
      "17\n",
      "18\n",
      "19\n",
      "20\n",
      "21\n",
      "22\n",
      "23\n"
     ]
    }
   ],
   "source": [
    "for i in np.nditer(arr12):\n",
    "    print(i)"
   ]
  },
  {
   "cell_type": "markdown",
   "id": "f924ec3c",
   "metadata": {},
   "source": [
    "# Numpy Operation"
   ]
  },
  {
   "cell_type": "code",
   "execution_count": 98,
   "id": "aeb17ab1",
   "metadata": {},
   "outputs": [],
   "source": [
    "import numpy as np"
   ]
  },
  {
   "cell_type": "code",
   "execution_count": 99,
   "id": "a1127acb",
   "metadata": {},
   "outputs": [],
   "source": [
    "arr1 = np.array([1,2,3,4,5,6])\n",
    "arr2 = np.array([4,5,6,7,8,9])"
   ]
  },
  {
   "cell_type": "code",
   "execution_count": 100,
   "id": "caa4f248",
   "metadata": {},
   "outputs": [
    {
     "data": {
      "text/plain": [
       "array([-3, -3, -3, -3, -3, -3])"
      ]
     },
     "execution_count": 100,
     "metadata": {},
     "output_type": "execute_result"
    }
   ],
   "source": [
    "arr1 - arr2"
   ]
  },
  {
   "cell_type": "code",
   "execution_count": 101,
   "id": "739210ea",
   "metadata": {},
   "outputs": [
    {
     "data": {
      "text/plain": [
       "array([ 4, 10, 18, 28, 40, 54])"
      ]
     },
     "execution_count": 101,
     "metadata": {},
     "output_type": "execute_result"
    }
   ],
   "source": [
    "arr1*arr2"
   ]
  },
  {
   "cell_type": "code",
   "execution_count": 102,
   "id": "f4137dfc",
   "metadata": {},
   "outputs": [
    {
     "data": {
      "text/plain": [
       "array([ True,  True,  True,  True,  True,  True])"
      ]
     },
     "execution_count": 102,
     "metadata": {},
     "output_type": "execute_result"
    }
   ],
   "source": [
    "arr2>3"
   ]
  },
  {
   "cell_type": "code",
   "execution_count": 103,
   "id": "a333489f",
   "metadata": {},
   "outputs": [],
   "source": [
    "arr3 = np.arange(6).reshape(2,3)\n",
    "arr4 = np.arange(6,12).reshape(3,2)"
   ]
  },
  {
   "cell_type": "code",
   "execution_count": 104,
   "id": "9f9028f5",
   "metadata": {},
   "outputs": [
    {
     "data": {
      "text/plain": [
       "array([[ 28,  31],\n",
       "       [100, 112]])"
      ]
     },
     "execution_count": 104,
     "metadata": {},
     "output_type": "execute_result"
    }
   ],
   "source": [
    "arr3.dot(arr4)"
   ]
  },
  {
   "cell_type": "code",
   "execution_count": 105,
   "id": "0f63e8f3",
   "metadata": {},
   "outputs": [
    {
     "data": {
      "text/plain": [
       "154"
      ]
     },
     "execution_count": 105,
     "metadata": {},
     "output_type": "execute_result"
    }
   ],
   "source": [
    "arr1.dot(arr2)"
   ]
  },
  {
   "cell_type": "code",
   "execution_count": 106,
   "id": "c229277b",
   "metadata": {},
   "outputs": [
    {
     "data": {
      "text/plain": [
       "array([[0, 1, 2],\n",
       "       [3, 4, 5]])"
      ]
     },
     "execution_count": 106,
     "metadata": {},
     "output_type": "execute_result"
    }
   ],
   "source": [
    "arr3"
   ]
  },
  {
   "cell_type": "code",
   "execution_count": 107,
   "id": "b468d3d9",
   "metadata": {},
   "outputs": [
    {
     "data": {
      "text/plain": [
       "array([[ 6,  7],\n",
       "       [ 8,  9],\n",
       "       [10, 11]])"
      ]
     },
     "execution_count": 107,
     "metadata": {},
     "output_type": "execute_result"
    }
   ],
   "source": [
    "arr4"
   ]
  },
  {
   "cell_type": "code",
   "execution_count": 109,
   "id": "8344c0b0",
   "metadata": {},
   "outputs": [
    {
     "data": {
      "text/plain": [
       "11"
      ]
     },
     "execution_count": 109,
     "metadata": {},
     "output_type": "execute_result"
    }
   ],
   "source": [
    "arr4.max()"
   ]
  },
  {
   "cell_type": "code",
   "execution_count": 110,
   "id": "0b0e2400",
   "metadata": {},
   "outputs": [
    {
     "data": {
      "text/plain": [
       "6"
      ]
     },
     "execution_count": 110,
     "metadata": {},
     "output_type": "execute_result"
    }
   ],
   "source": [
    "arr4.min()"
   ]
  },
  {
   "cell_type": "code",
   "execution_count": 111,
   "id": "97a8b252",
   "metadata": {},
   "outputs": [
    {
     "data": {
      "text/plain": [
       "array([6, 7])"
      ]
     },
     "execution_count": 111,
     "metadata": {},
     "output_type": "execute_result"
    }
   ],
   "source": [
    "arr4.min(axis=0)"
   ]
  },
  {
   "cell_type": "code",
   "execution_count": 112,
   "id": "2cbe402e",
   "metadata": {},
   "outputs": [
    {
     "data": {
      "text/plain": [
       "51"
      ]
     },
     "execution_count": 112,
     "metadata": {},
     "output_type": "execute_result"
    }
   ],
   "source": [
    " arr4.sum()"
   ]
  },
  {
   "cell_type": "code",
   "execution_count": 113,
   "id": "1d2eb788",
   "metadata": {},
   "outputs": [
    {
     "data": {
      "text/plain": [
       "array([ 6,  8, 10])"
      ]
     },
     "execution_count": 113,
     "metadata": {},
     "output_type": "execute_result"
    }
   ],
   "source": [
    "arr4.min(axis=1)"
   ]
  },
  {
   "cell_type": "code",
   "execution_count": 114,
   "id": "7e482080",
   "metadata": {},
   "outputs": [
    {
     "data": {
      "text/plain": [
       "array([24, 27])"
      ]
     },
     "execution_count": 114,
     "metadata": {},
     "output_type": "execute_result"
    }
   ],
   "source": [
    "arr4.sum(axis = 0)"
   ]
  },
  {
   "cell_type": "code",
   "execution_count": 115,
   "id": "d2949372",
   "metadata": {},
   "outputs": [
    {
     "data": {
      "text/plain": [
       "8.5"
      ]
     },
     "execution_count": 115,
     "metadata": {},
     "output_type": "execute_result"
    }
   ],
   "source": [
    "arr4.mean()"
   ]
  },
  {
   "cell_type": "code",
   "execution_count": 116,
   "id": "d83993a5",
   "metadata": {},
   "outputs": [
    {
     "data": {
      "text/plain": [
       "1.707825127659933"
      ]
     },
     "execution_count": 116,
     "metadata": {},
     "output_type": "execute_result"
    }
   ],
   "source": [
    "arr4.std()"
   ]
  },
  {
   "cell_type": "code",
   "execution_count": 117,
   "id": "91293bea",
   "metadata": {},
   "outputs": [
    {
     "data": {
      "text/plain": [
       "array([[-0.2794155 ,  0.6569866 ],\n",
       "       [ 0.98935825,  0.41211849],\n",
       "       [-0.54402111, -0.99999021]])"
      ]
     },
     "execution_count": 117,
     "metadata": {},
     "output_type": "execute_result"
    }
   ],
   "source": [
    "np.sin(arr4) #to access it u dont need an array"
   ]
  },
  {
   "cell_type": "code",
   "execution_count": 118,
   "id": "855c48fb",
   "metadata": {},
   "outputs": [
    {
     "data": {
      "text/plain": [
       "8.5"
      ]
     },
     "execution_count": 118,
     "metadata": {},
     "output_type": "execute_result"
    }
   ],
   "source": [
    "np.median(arr4)"
   ]
  },
  {
   "cell_type": "code",
   "execution_count": 119,
   "id": "8d4bf7ed",
   "metadata": {},
   "outputs": [
    {
     "data": {
      "text/plain": [
       "array([[ 6,  7],\n",
       "       [ 8,  9],\n",
       "       [10, 11]])"
      ]
     },
     "execution_count": 119,
     "metadata": {},
     "output_type": "execute_result"
    }
   ],
   "source": [
    "arr4"
   ]
  },
  {
   "cell_type": "code",
   "execution_count": 120,
   "id": "1ff81d06",
   "metadata": {},
   "outputs": [
    {
     "data": {
      "text/plain": [
       "array([[  403.42879349,  1096.63315843],\n",
       "       [ 2980.95798704,  8103.08392758],\n",
       "       [22026.46579481, 59874.1417152 ]])"
      ]
     },
     "execution_count": 120,
     "metadata": {},
     "output_type": "execute_result"
    }
   ],
   "source": [
    "np.exp(arr4)"
   ]
  },
  {
   "cell_type": "markdown",
   "id": "e892f400",
   "metadata": {},
   "source": [
    "# Reshaping"
   ]
  },
  {
   "cell_type": "code",
   "execution_count": 121,
   "id": "0160aff8",
   "metadata": {},
   "outputs": [],
   "source": [
    "import numpy as np"
   ]
  },
  {
   "cell_type": "code",
   "execution_count": 122,
   "id": "90017624",
   "metadata": {},
   "outputs": [
    {
     "data": {
      "text/plain": [
       "array([[ 6,  7],\n",
       "       [ 8,  9],\n",
       "       [10, 11]])"
      ]
     },
     "execution_count": 122,
     "metadata": {},
     "output_type": "execute_result"
    }
   ],
   "source": [
    "arr4"
   ]
  },
  {
   "cell_type": "code",
   "execution_count": 123,
   "id": "8485309c",
   "metadata": {},
   "outputs": [
    {
     "data": {
      "text/plain": [
       "2"
      ]
     },
     "execution_count": 123,
     "metadata": {},
     "output_type": "execute_result"
    }
   ],
   "source": [
    "arr4.ndim"
   ]
  },
  {
   "cell_type": "code",
   "execution_count": 124,
   "id": "9a69736e",
   "metadata": {},
   "outputs": [
    {
     "data": {
      "text/plain": [
       "array([ 6,  7,  8,  9, 10, 11])"
      ]
     },
     "execution_count": 124,
     "metadata": {},
     "output_type": "execute_result"
    }
   ],
   "source": [
    "arr4.ravel()"
   ]
  },
  {
   "cell_type": "code",
   "execution_count": 125,
   "id": "1ead5c9a",
   "metadata": {},
   "outputs": [
    {
     "data": {
      "text/plain": [
       "array([[ 6,  8, 10],\n",
       "       [ 7,  9, 11]])"
      ]
     },
     "execution_count": 125,
     "metadata": {},
     "output_type": "execute_result"
    }
   ],
   "source": [
    "arr4.transpose()"
   ]
  },
  {
   "cell_type": "code",
   "execution_count": 126,
   "id": "0f47f385",
   "metadata": {},
   "outputs": [
    {
     "data": {
      "text/plain": [
       "array([[ 6,  7],\n",
       "       [ 8,  9],\n",
       "       [10, 11]])"
      ]
     },
     "execution_count": 126,
     "metadata": {},
     "output_type": "execute_result"
    }
   ],
   "source": [
    " arr4"
   ]
  },
  {
   "cell_type": "code",
   "execution_count": 127,
   "id": "84bfe7ad",
   "metadata": {},
   "outputs": [
    {
     "data": {
      "text/plain": [
       "array([[0, 1, 2],\n",
       "       [3, 4, 5]])"
      ]
     },
     "execution_count": 127,
     "metadata": {},
     "output_type": "execute_result"
    }
   ],
   "source": [
    "arr3"
   ]
  },
  {
   "cell_type": "code",
   "execution_count": 129,
   "id": "1ddc34c2",
   "metadata": {},
   "outputs": [],
   "source": [
    "arr5 = np.arange(12,18).reshape(2,3)"
   ]
  },
  {
   "cell_type": "code",
   "execution_count": 130,
   "id": "0446703a",
   "metadata": {},
   "outputs": [
    {
     "data": {
      "text/plain": [
       "array([[12, 13, 14],\n",
       "       [15, 16, 17]])"
      ]
     },
     "execution_count": 130,
     "metadata": {},
     "output_type": "execute_result"
    }
   ],
   "source": [
    "arr5"
   ]
  },
  {
   "cell_type": "code",
   "execution_count": 131,
   "id": "83105ae6",
   "metadata": {},
   "outputs": [
    {
     "data": {
      "text/plain": [
       "array([[ 0,  1,  2, 12, 13, 14],\n",
       "       [ 3,  4,  5, 15, 16, 17]])"
      ]
     },
     "execution_count": 131,
     "metadata": {},
     "output_type": "execute_result"
    }
   ],
   "source": [
    "np.hstack((arr3,arr5))   #syntax is static,so using .np"
   ]
  },
  {
   "cell_type": "code",
   "execution_count": 132,
   "id": "b328bdcd",
   "metadata": {},
   "outputs": [
    {
     "data": {
      "text/plain": [
       "[array([[0],\n",
       "        [3]]),\n",
       " array([[1],\n",
       "        [4]]),\n",
       " array([[2],\n",
       "        [5]])]"
      ]
     },
     "execution_count": 132,
     "metadata": {},
     "output_type": "execute_result"
    }
   ],
   "source": [
    "np.hsplit(arr3,3)"
   ]
  },
  {
   "cell_type": "code",
   "execution_count": 133,
   "id": "da8fd5d7",
   "metadata": {},
   "outputs": [
    {
     "data": {
      "text/plain": [
       "[array([[0, 1, 2]]), array([[3, 4, 5]])]"
      ]
     },
     "execution_count": 133,
     "metadata": {},
     "output_type": "execute_result"
    }
   ],
   "source": [
    "np.vsplit(arr3,2)"
   ]
  },
  {
   "cell_type": "markdown",
   "id": "05292a93",
   "metadata": {},
   "source": [
    "# Fancy indexing in Numpy"
   ]
  },
  {
   "cell_type": "code",
   "execution_count": 134,
   "id": "699c1d22",
   "metadata": {},
   "outputs": [],
   "source": [
    "import numpy as np"
   ]
  },
  {
   "cell_type": "code",
   "execution_count": 136,
   "id": "cbcbb4bf",
   "metadata": {},
   "outputs": [],
   "source": [
    "arr8 = np.arange(24).reshape(6,4)"
   ]
  },
  {
   "cell_type": "code",
   "execution_count": 137,
   "id": "9e96857a",
   "metadata": {},
   "outputs": [
    {
     "data": {
      "text/plain": [
       "array([[ 0,  1,  2,  3],\n",
       "       [ 4,  5,  6,  7],\n",
       "       [ 8,  9, 10, 11],\n",
       "       [12, 13, 14, 15],\n",
       "       [16, 17, 18, 19],\n",
       "       [20, 21, 22, 23]])"
      ]
     },
     "execution_count": 137,
     "metadata": {},
     "output_type": "execute_result"
    }
   ],
   "source": [
    "arr8"
   ]
  },
  {
   "cell_type": "code",
   "execution_count": 138,
   "id": "4af13573",
   "metadata": {},
   "outputs": [
    {
     "data": {
      "text/plain": [
       "array([[ 0,  1,  2,  3],\n",
       "       [ 8,  9, 10, 11],\n",
       "       [16, 17, 18, 19]])"
      ]
     },
     "execution_count": 138,
     "metadata": {},
     "output_type": "execute_result"
    }
   ],
   "source": [
    "arr8[[0,2,4]]  #extracting specific rows"
   ]
  },
  {
   "cell_type": "markdown",
   "id": "148366b8",
   "metadata": {},
   "source": [
    "# Indexing with boolian arrays"
   ]
  },
  {
   "cell_type": "code",
   "execution_count": 1,
   "id": "2ca129f8",
   "metadata": {},
   "outputs": [],
   "source": [
    "import numpy as np"
   ]
  },
  {
   "cell_type": "code",
   "execution_count": 3,
   "id": "a5fcab07",
   "metadata": {},
   "outputs": [
    {
     "data": {
      "text/plain": [
       "array([[74, 93, 94, 46, 15],\n",
       "       [60, 53, 17, 12, 24],\n",
       "       [52, 70, 64, 59, 57],\n",
       "       [46, 73, 94, 31, 31]])"
      ]
     },
     "execution_count": 3,
     "metadata": {},
     "output_type": "execute_result"
    }
   ],
   "source": [
    "arr = np.random.randint(low = 1, high = 100, size = 20).reshape(4,5)\n",
    "arr"
   ]
  },
  {
   "cell_type": "code",
   "execution_count": 4,
   "id": "edd69f2f",
   "metadata": {},
   "outputs": [
    {
     "data": {
      "text/plain": [
       "array([74, 93, 94, 46, 15])"
      ]
     },
     "execution_count": 4,
     "metadata": {},
     "output_type": "execute_result"
    }
   ],
   "source": [
    "arr[0]"
   ]
  },
  {
   "cell_type": "code",
   "execution_count": 5,
   "id": "c49b1f85",
   "metadata": {},
   "outputs": [
    {
     "data": {
      "text/plain": [
       "94"
      ]
     },
     "execution_count": 5,
     "metadata": {},
     "output_type": "execute_result"
    }
   ],
   "source": [
    "arr[0][2]"
   ]
  },
  {
   "cell_type": "code",
   "execution_count": 6,
   "id": "a0c3af69",
   "metadata": {},
   "outputs": [
    {
     "data": {
      "text/plain": [
       "array([[ True,  True,  True, False, False],\n",
       "       [ True,  True, False, False, False],\n",
       "       [ True,  True,  True,  True,  True],\n",
       "       [False,  True,  True, False, False]])"
      ]
     },
     "execution_count": 6,
     "metadata": {},
     "output_type": "execute_result"
    }
   ],
   "source": [
    "arr>50"
   ]
  },
  {
   "cell_type": "code",
   "execution_count": 8,
   "id": "49b63a79",
   "metadata": {},
   "outputs": [
    {
     "data": {
      "text/plain": [
       "array([74, 93, 94, 60, 53, 52, 70, 64, 59, 57, 73, 94])"
      ]
     },
     "execution_count": 8,
     "metadata": {},
     "output_type": "execute_result"
    }
   ],
   "source": [
    "#indexing using boolian array\n",
    "\n",
    "arr[arr>50]"
   ]
  },
  {
   "cell_type": "code",
   "execution_count": 9,
   "id": "9d103c8c",
   "metadata": {},
   "outputs": [
    {
     "data": {
      "text/plain": [
       "array([93, 53, 59, 57, 73])"
      ]
     },
     "execution_count": 9,
     "metadata": {},
     "output_type": "execute_result"
    }
   ],
   "source": [
    "arr[(arr>50) & (arr%2 != 0)]       # & in boolian array is bitwise operator"
   ]
  },
  {
   "cell_type": "code",
   "execution_count": 10,
   "id": "b1625fdf",
   "metadata": {},
   "outputs": [],
   "source": [
    "arr[(arr>50) & (arr%2 != 0)] = 0"
   ]
  },
  {
   "cell_type": "code",
   "execution_count": 11,
   "id": "979e013a",
   "metadata": {},
   "outputs": [
    {
     "data": {
      "text/plain": [
       "array([[74,  0, 94, 46, 15],\n",
       "       [60,  0, 17, 12, 24],\n",
       "       [52, 70, 64,  0,  0],\n",
       "       [46,  0, 94, 31, 31]])"
      ]
     },
     "execution_count": 11,
     "metadata": {},
     "output_type": "execute_result"
    }
   ],
   "source": [
    "arr"
   ]
  },
  {
   "cell_type": "markdown",
   "id": "d9edcbb1",
   "metadata": {},
   "source": [
    "# Plotting graphs using Numpy"
   ]
  },
  {
   "cell_type": "code",
   "execution_count": 12,
   "id": "0e4bb606",
   "metadata": {},
   "outputs": [],
   "source": [
    "import numpy as np"
   ]
  },
  {
   "cell_type": "code",
   "execution_count": 13,
   "id": "27ce92d9",
   "metadata": {},
   "outputs": [],
   "source": [
    "x = np.linspace(-40,40,100)"
   ]
  },
  {
   "cell_type": "code",
   "execution_count": 14,
   "id": "1cab1357",
   "metadata": {},
   "outputs": [
    {
     "data": {
      "text/plain": [
       "array([-40.        , -39.19191919, -38.38383838, -37.57575758,\n",
       "       -36.76767677, -35.95959596, -35.15151515, -34.34343434,\n",
       "       -33.53535354, -32.72727273, -31.91919192, -31.11111111,\n",
       "       -30.3030303 , -29.49494949, -28.68686869, -27.87878788,\n",
       "       -27.07070707, -26.26262626, -25.45454545, -24.64646465,\n",
       "       -23.83838384, -23.03030303, -22.22222222, -21.41414141,\n",
       "       -20.60606061, -19.7979798 , -18.98989899, -18.18181818,\n",
       "       -17.37373737, -16.56565657, -15.75757576, -14.94949495,\n",
       "       -14.14141414, -13.33333333, -12.52525253, -11.71717172,\n",
       "       -10.90909091, -10.1010101 ,  -9.29292929,  -8.48484848,\n",
       "        -7.67676768,  -6.86868687,  -6.06060606,  -5.25252525,\n",
       "        -4.44444444,  -3.63636364,  -2.82828283,  -2.02020202,\n",
       "        -1.21212121,  -0.4040404 ,   0.4040404 ,   1.21212121,\n",
       "         2.02020202,   2.82828283,   3.63636364,   4.44444444,\n",
       "         5.25252525,   6.06060606,   6.86868687,   7.67676768,\n",
       "         8.48484848,   9.29292929,  10.1010101 ,  10.90909091,\n",
       "        11.71717172,  12.52525253,  13.33333333,  14.14141414,\n",
       "        14.94949495,  15.75757576,  16.56565657,  17.37373737,\n",
       "        18.18181818,  18.98989899,  19.7979798 ,  20.60606061,\n",
       "        21.41414141,  22.22222222,  23.03030303,  23.83838384,\n",
       "        24.64646465,  25.45454545,  26.26262626,  27.07070707,\n",
       "        27.87878788,  28.68686869,  29.49494949,  30.3030303 ,\n",
       "        31.11111111,  31.91919192,  32.72727273,  33.53535354,\n",
       "        34.34343434,  35.15151515,  35.95959596,  36.76767677,\n",
       "        37.57575758,  38.38383838,  39.19191919,  40.        ])"
      ]
     },
     "execution_count": 14,
     "metadata": {},
     "output_type": "execute_result"
    }
   ],
   "source": [
    "x"
   ]
  },
  {
   "cell_type": "code",
   "execution_count": 15,
   "id": "6f109bea",
   "metadata": {},
   "outputs": [
    {
     "data": {
      "text/plain": [
       "100"
      ]
     },
     "execution_count": 15,
     "metadata": {},
     "output_type": "execute_result"
    }
   ],
   "source": [
    "x.size"
   ]
  },
  {
   "cell_type": "code",
   "execution_count": 16,
   "id": "2d991f8b",
   "metadata": {},
   "outputs": [],
   "source": [
    "y = np.sin(x)"
   ]
  },
  {
   "cell_type": "code",
   "execution_count": 17,
   "id": "958e1aba",
   "metadata": {},
   "outputs": [
    {
     "data": {
      "text/plain": [
       "array([-0.74511316, -0.9969604 , -0.63246122,  0.12304167,  0.80247705,\n",
       "        0.98580059,  0.55967698, -0.21245326, -0.85323945, -0.96653119,\n",
       "       -0.48228862,  0.30011711,  0.89698277,  0.93931073,  0.40093277,\n",
       "       -0.38531209, -0.93334716, -0.90436313, -0.31627868,  0.46733734,\n",
       "        0.96203346,  0.86197589,  0.22902277, -0.54551809, -0.9828057 ,\n",
       "       -0.81249769, -0.13988282,  0.61921119,  0.995493  ,  0.75633557,\n",
       "        0.04959214, -0.68781042, -0.99999098, -0.69395153,  0.0411065 ,\n",
       "        0.75075145,  0.99626264,  0.62585878, -0.13146699, -0.8075165 ,\n",
       "       -0.98433866, -0.55261747,  0.22074597,  0.85763861,  0.96431712,\n",
       "        0.47483011, -0.30820902, -0.90070545, -0.93636273, -0.39313661,\n",
       "        0.39313661,  0.93636273,  0.90070545,  0.30820902, -0.47483011,\n",
       "       -0.96431712, -0.85763861, -0.22074597,  0.55261747,  0.98433866,\n",
       "        0.8075165 ,  0.13146699, -0.62585878, -0.99626264, -0.75075145,\n",
       "       -0.0411065 ,  0.69395153,  0.99999098,  0.68781042, -0.04959214,\n",
       "       -0.75633557, -0.995493  , -0.61921119,  0.13988282,  0.81249769,\n",
       "        0.9828057 ,  0.54551809, -0.22902277, -0.86197589, -0.96203346,\n",
       "       -0.46733734,  0.31627868,  0.90436313,  0.93334716,  0.38531209,\n",
       "       -0.40093277, -0.93931073, -0.89698277, -0.30011711,  0.48228862,\n",
       "        0.96653119,  0.85323945,  0.21245326, -0.55967698, -0.98580059,\n",
       "       -0.80247705, -0.12304167,  0.63246122,  0.9969604 ,  0.74511316])"
      ]
     },
     "execution_count": 17,
     "metadata": {},
     "output_type": "execute_result"
    }
   ],
   "source": [
    "y"
   ]
  },
  {
   "cell_type": "code",
   "execution_count": 18,
   "id": "3b56e897",
   "metadata": {},
   "outputs": [
    {
     "data": {
      "text/plain": [
       "100"
      ]
     },
     "execution_count": 18,
     "metadata": {},
     "output_type": "execute_result"
    }
   ],
   "source": [
    "y.size"
   ]
  },
  {
   "cell_type": "code",
   "execution_count": 19,
   "id": "6ecae141",
   "metadata": {},
   "outputs": [],
   "source": [
    "import matplotlib.pyplot as plt\n",
    "%matplotlib inline"
   ]
  },
  {
   "cell_type": "code",
   "execution_count": 20,
   "id": "b1ba146c",
   "metadata": {},
   "outputs": [
    {
     "data": {
      "text/plain": [
       "[<matplotlib.lines.Line2D at 0x2a89804e6b0>]"
      ]
     },
     "execution_count": 20,
     "metadata": {},
     "output_type": "execute_result"
    },
    {
     "data": {
      "image/png": "[encoded data removed]",
      "text/plain": [
       "<Figure size 640x480 with 1 Axes>"
      ]
     },
     "metadata": {},
     "output_type": "display_data"
    }
   ],
   "source": [
    "plt.plot(x,y)"
   ]
  },
  {
   "cell_type": "code",
   "execution_count": 21,
   "id": "865086fc",
   "metadata": {},
   "outputs": [],
   "source": [
    "y = x*x + 2*x + 67"
   ]
  },
  {
   "cell_type": "code",
   "execution_count": 22,
   "id": "ceecbe37",
   "metadata": {},
   "outputs": [
    {
     "data": {
      "text/plain": [
       "[<matplotlib.lines.Line2D at 0x2a8982c2680>]"
      ]
     },
     "execution_count": 22,
     "metadata": {},
     "output_type": "execute_result"
    },
    {
     "data": {
      "image/png": "[encoded data removed]",
      "text/plain": [
       "<Figure size 640x480 with 1 Axes>"
      ]
     },
     "metadata": {},
     "output_type": "display_data"
    }
   ],
   "source": [
    "plt.plot(x,y)"
   ]
  },
  {
   "cell_type": "markdown",
   "id": "3be65983",
   "metadata": {},
   "source": [
    "# Broadcasting"
   ]
  },
  {
   "cell_type": "code",
   "execution_count": 23,
   "id": "2d7b4ff8",
   "metadata": {},
   "outputs": [],
   "source": [
    "import numpy as np"
   ]
  },
  {
   "cell_type": "code",
   "execution_count": 24,
   "id": "ec36b808",
   "metadata": {},
   "outputs": [
    {
     "name": "stdout",
     "output_type": "stream",
     "text": [
      "[[0 1 2 3]\n",
      " [4 5 6 7]]\n",
      "[[ 8  9 10 11]\n",
      " [12 13 14 15]]\n"
     ]
    }
   ],
   "source": [
    "# scenario 1\n",
    "\n",
    "a1 = np.arange(8).reshape(2,4)\n",
    "a2 = np.arange(8,16).reshape(2,4)\n",
    "\n",
    "print(a1)\n",
    "print(a2)"
   ]
  },
  {
   "cell_type": "code",
   "execution_count": 25,
   "id": "00b2e0eb",
   "metadata": {},
   "outputs": [
    {
     "data": {
      "text/plain": [
       "array([[ 8, 10, 12, 14],\n",
       "       [16, 18, 20, 22]])"
      ]
     },
     "execution_count": 25,
     "metadata": {},
     "output_type": "execute_result"
    }
   ],
   "source": [
    "a1 + a2"
   ]
  },
  {
   "cell_type": "code",
   "execution_count": 26,
   "id": "dab68925",
   "metadata": {},
   "outputs": [
    {
     "name": "stdout",
     "output_type": "stream",
     "text": [
      "[[0 1 2]\n",
      " [3 4 5]\n",
      " [6 7 8]] [[0 1 2]]\n"
     ]
    }
   ],
   "source": [
    "# scenario 2\n",
    "\n",
    "a3 = np.arange(9).reshape(3,3)\n",
    "a4 = np.arange(3).reshape(1,3)\n",
    "\n",
    "print(a3,a4)"
   ]
  },
  {
   "cell_type": "code",
   "execution_count": 27,
   "id": "e5584b44",
   "metadata": {},
   "outputs": [
    {
     "data": {
      "text/plain": [
       "array([[ 0,  2,  4],\n",
       "       [ 3,  5,  7],\n",
       "       [ 6,  8, 10]])"
      ]
     },
     "execution_count": 27,
     "metadata": {},
     "output_type": "execute_result"
    }
   ],
   "source": [
    "a3 + a4"
   ]
  },
  {
   "cell_type": "code",
   "execution_count": 30,
   "id": "586ca982",
   "metadata": {},
   "outputs": [
    {
     "name": "stdout",
     "output_type": "stream",
     "text": [
      "[[0 1 2]] [[ 0  1  2]\n",
      " [ 3  4  5]\n",
      " [ 6  7  8]\n",
      " [ 9 10 11]]\n"
     ]
    }
   ],
   "source": [
    "# if x = 1 and y = n then also operation will take place( same dimension)\n",
    "\n",
    "a5 = np.arange(3).reshape(1,3)\n",
    "a6 = np.arange(12).reshape(4,3)\n",
    "\n",
    "print(a5,a6)"
   ]
  },
  {
   "cell_type": "code",
   "execution_count": 31,
   "id": "17bf174c",
   "metadata": {},
   "outputs": [
    {
     "data": {
      "text/plain": [
       "array([[ 0,  2,  4],\n",
       "       [ 3,  5,  7],\n",
       "       [ 6,  8, 10],\n",
       "       [ 9, 11, 13]])"
      ]
     },
     "execution_count": 31,
     "metadata": {},
     "output_type": "execute_result"
    }
   ],
   "source": [
    "a5 + a6"
   ]
  },
  {
   "cell_type": "code",
   "execution_count": 32,
   "id": "739913f5",
   "metadata": {},
   "outputs": [
    {
     "name": "stdout",
     "output_type": "stream",
     "text": [
      "[[0]\n",
      " [1]\n",
      " [2]\n",
      " [3]]\n",
      "[[ 0  1  2]\n",
      " [ 3  4  5]\n",
      " [ 6  7  8]\n",
      " [ 9 10 11]]\n"
     ]
    }
   ],
   "source": [
    "# if y = 1 and x = m then also operation will take place,even if they are not of the same dimension\n",
    "\n",
    "a7 = np.arange(4).reshape(4,1)\n",
    "a8 = np.arange(12).reshape(4,3)\n",
    "\n",
    "print(a7)\n",
    "print(a8)"
   ]
  },
  {
   "cell_type": "code",
   "execution_count": 33,
   "id": "ccb47da7",
   "metadata": {},
   "outputs": [
    {
     "data": {
      "text/plain": [
       "array([[ 0,  1,  2],\n",
       "       [ 4,  5,  6],\n",
       "       [ 8,  9, 10],\n",
       "       [12, 13, 14]])"
      ]
     },
     "execution_count": 33,
     "metadata": {},
     "output_type": "execute_result"
    }
   ],
   "source": [
    "a7 + a8"
   ]
  },
  {
   "cell_type": "code",
   "execution_count": 34,
   "id": "5b706505",
   "metadata": {},
   "outputs": [
    {
     "name": "stdout",
     "output_type": "stream",
     "text": [
      "[[0 1 2]]\n",
      "[[ 0  1  2  3]\n",
      " [ 4  5  6  7]\n",
      " [ 8  9 10 11]\n",
      " [12 13 14 15]]\n"
     ]
    }
   ],
   "source": [
    "# if x = 1 and y != n then also operation will not take place\n",
    "\n",
    "a9 = np.arange(3).reshape(1,3)\n",
    "a10 = np.arange(16).reshape(4,4)\n",
    "\n",
    "print(a9)\n",
    "print(a10)"
   ]
  },
  {
   "cell_type": "code",
   "execution_count": 35,
   "id": "82c3a6cb",
   "metadata": {},
   "outputs": [
    {
     "ename": "ValueError",
     "evalue": "operands could not be broadcast together with shapes (1,3) (4,4) ",
     "output_type": "error",
     "traceback": [
      "\u001b[1;31m---------------------------------------------------------------------------\u001b[0m",
      "\u001b[1;31mValueError\u001b[0m                                Traceback (most recent call last)",
      "Cell \u001b[1;32mIn[35], line 1\u001b[0m\n\u001b[1;32m----> 1\u001b[0m \u001b[43ma9\u001b[49m\u001b[43m \u001b[49m\u001b[38;5;241;43m+\u001b[39;49m\u001b[43m \u001b[49m\u001b[43ma10\u001b[49m\n",
      "\u001b[1;31mValueError\u001b[0m: operands could not be broadcast together with shapes (1,3) (4,4) "
     ]
    }
   ],
   "source": [
    "a9 + a10 # because shapes are not matching"
   ]
  },
  {
   "cell_type": "code",
   "execution_count": 3,
   "id": "7d6c19e9",
   "metadata": {},
   "outputs": [],
   "source": [
    "import numpy as np"
   ]
  },
  {
   "cell_type": "code",
   "execution_count": 4,
   "id": "ba53f649",
   "metadata": {},
   "outputs": [
    {
     "name": "stdout",
     "output_type": "stream",
     "text": [
      "[[0 1 2]]\n",
      "[[0]\n",
      " [1]\n",
      " [2]]\n"
     ]
    }
   ],
   "source": [
    "# if x =1 and n = 1 then y == m, operation to take place\n",
    "\n",
    "a11 = np.arange(3).reshape(1,3)\n",
    "a12 = np.arange(3).reshape(3,1)\n",
    "\n",
    "print(a11)\n",
    "print(a12)"
   ]
  },
  {
   "cell_type": "code",
   "execution_count": 5,
   "id": "9e861364",
   "metadata": {},
   "outputs": [
    {
     "data": {
      "text/plain": [
       "array([[0, 1, 2],\n",
       "       [1, 2, 3],\n",
       "       [2, 3, 4]])"
      ]
     },
     "execution_count": 5,
     "metadata": {},
     "output_type": "execute_result"
    }
   ],
   "source": [
    "a11 + a12"
   ]
  },
  {
   "cell_type": "markdown",
   "id": "3e648467",
   "metadata": {},
   "source": [
    "# Numpy Library"
   ]
  },
  {
   "cell_type": "code",
   "execution_count": 6,
   "id": "07f339a5",
   "metadata": {},
   "outputs": [],
   "source": [
    "import numpy as np"
   ]
  },
  {
   "cell_type": "code",
   "execution_count": 7,
   "id": "5bbfc40d",
   "metadata": {},
   "outputs": [
    {
     "data": {
      "text/plain": [
       "0.41366803545663333"
      ]
     },
     "execution_count": 7,
     "metadata": {},
     "output_type": "execute_result"
    }
   ],
   "source": [
    "np.random.random()"
   ]
  },
  {
   "cell_type": "code",
   "execution_count": 10,
   "id": "b49af5aa",
   "metadata": {},
   "outputs": [
    {
     "data": {
      "text/plain": [
       "0.771320643266746"
      ]
     },
     "execution_count": 10,
     "metadata": {},
     "output_type": "execute_result"
    }
   ],
   "source": [
    "np.random.seed(10) #for getting same random value again and again\n",
    "np.random.random()"
   ]
  },
  {
   "cell_type": "code",
   "execution_count": 13,
   "id": "55b54812",
   "metadata": {},
   "outputs": [
    {
     "data": {
      "text/plain": [
       "8.241627177770283"
      ]
     },
     "execution_count": 13,
     "metadata": {},
     "output_type": "execute_result"
    }
   ],
   "source": [
    "np.random.uniform(3,10)"
   ]
  },
  {
   "cell_type": "code",
   "execution_count": 14,
   "id": "a77fdd6c",
   "metadata": {},
   "outputs": [
    {
     "data": {
      "text/plain": [
       "array([50.35219422, 23.25486791, 20.60822361, 76.29254051, 17.74197282,\n",
       "        9.7456416 , 68.85062202, 95.38594127,  1.39087837, 51.70703408])"
      ]
     },
     "execution_count": 14,
     "metadata": {},
     "output_type": "execute_result"
    }
   ],
   "source": [
    "np.random.uniform(1,100,10)"
   ]
  },
  {
   "cell_type": "code",
   "execution_count": 15,
   "id": "c6edc6cd",
   "metadata": {},
   "outputs": [
    {
     "data": {
      "text/plain": [
       "array([[81.4494752 , 61.64008062, 72.45377643, 29.89573075, 91.85963813],\n",
       "       [71.74300256, 54.71189243, 15.07483471, 37.96073525, 67.73922789]])"
      ]
     },
     "execution_count": 15,
     "metadata": {},
     "output_type": "execute_result"
    }
   ],
   "source": [
    "np.random.uniform(1,100,10).reshape(2,5)"
   ]
  },
  {
   "cell_type": "code",
   "execution_count": 16,
   "id": "0d973818",
   "metadata": {},
   "outputs": [
    {
     "data": {
      "text/plain": [
       "2"
      ]
     },
     "execution_count": 16,
     "metadata": {},
     "output_type": "execute_result"
    }
   ],
   "source": [
    "np.random.randint(1,10)"
   ]
  },
  {
   "cell_type": "code",
   "execution_count": 17,
   "id": "82ff63ec",
   "metadata": {},
   "outputs": [
    {
     "data": {
      "text/plain": [
       "array([5, 3, 7, 8, 9])"
      ]
     },
     "execution_count": 17,
     "metadata": {},
     "output_type": "execute_result"
    }
   ],
   "source": [
    "np.random.randint(1,10,5)"
   ]
  },
  {
   "cell_type": "code",
   "execution_count": 18,
   "id": "c696d262",
   "metadata": {},
   "outputs": [
    {
     "data": {
      "text/plain": [
       "array([[9, 3, 1, 7, 8],\n",
       "       [9, 2, 8, 2, 5],\n",
       "       [1, 9, 6, 5, 8]])"
      ]
     },
     "execution_count": 18,
     "metadata": {},
     "output_type": "execute_result"
    }
   ],
   "source": [
    "np.random.randint(1,10,15).reshape(3,5)"
   ]
  },
  {
   "cell_type": "code",
   "execution_count": 19,
   "id": "2eeb459c",
   "metadata": {},
   "outputs": [
    {
     "data": {
      "text/plain": [
       "array([9, 9, 3, 7, 3, 9])"
      ]
     },
     "execution_count": 19,
     "metadata": {},
     "output_type": "execute_result"
    }
   ],
   "source": [
    "a = np.random.randint(1,10,6)\n",
    "a"
   ]
  },
  {
   "cell_type": "code",
   "execution_count": 20,
   "id": "419c7081",
   "metadata": {},
   "outputs": [
    {
     "data": {
      "text/plain": [
       "9"
      ]
     },
     "execution_count": 20,
     "metadata": {},
     "output_type": "execute_result"
    }
   ],
   "source": [
    "np.max(a)"
   ]
  },
  {
   "cell_type": "code",
   "execution_count": 21,
   "id": "891e0e9c",
   "metadata": {},
   "outputs": [
    {
     "data": {
      "text/plain": [
       "3"
      ]
     },
     "execution_count": 21,
     "metadata": {},
     "output_type": "execute_result"
    }
   ],
   "source": [
    "np.min(a)"
   ]
  },
  {
   "cell_type": "code",
   "execution_count": 23,
   "id": "112f2321",
   "metadata": {},
   "outputs": [
    {
     "data": {
      "text/plain": [
       "0"
      ]
     },
     "execution_count": 23,
     "metadata": {},
     "output_type": "execute_result"
    }
   ],
   "source": [
    "np.argmax(a)"
   ]
  },
  {
   "cell_type": "code",
   "execution_count": 24,
   "id": "c0c738c3",
   "metadata": {},
   "outputs": [
    {
     "data": {
      "text/plain": [
       "9"
      ]
     },
     "execution_count": 24,
     "metadata": {},
     "output_type": "execute_result"
    }
   ],
   "source": [
    "a[np.argmax(a)]"
   ]
  },
  {
   "cell_type": "code",
   "execution_count": 25,
   "id": "4455eb40",
   "metadata": {},
   "outputs": [
    {
     "data": {
      "text/plain": [
       "3"
      ]
     },
     "execution_count": 25,
     "metadata": {},
     "output_type": "execute_result"
    }
   ],
   "source": [
    "a[np.argmin(a)]"
   ]
  },
  {
   "cell_type": "code",
   "execution_count": 26,
   "id": "94e5643a",
   "metadata": {},
   "outputs": [
    {
     "data": {
      "text/plain": [
       "2"
      ]
     },
     "execution_count": 26,
     "metadata": {},
     "output_type": "execute_result"
    }
   ],
   "source": [
    "np.argmin(a)"
   ]
  },
  {
   "cell_type": "code",
   "execution_count": 27,
   "id": "4eff51ab",
   "metadata": {},
   "outputs": [
    {
     "data": {
      "text/plain": [
       "array([9, 7, 7, 6, 7, 1])"
      ]
     },
     "execution_count": 27,
     "metadata": {},
     "output_type": "execute_result"
    }
   ],
   "source": [
    "a = np.random.randint(1,10,6)\n",
    "a"
   ]
  },
  {
   "cell_type": "code",
   "execution_count": 28,
   "id": "54da2fbe",
   "metadata": {},
   "outputs": [
    {
     "data": {
      "text/plain": [
       "array([-1, -1, -1,  6, -1, -1])"
      ]
     },
     "execution_count": 28,
     "metadata": {},
     "output_type": "execute_result"
    }
   ],
   "source": [
    "a[a%2 == 1] = -1  #replace all the odd numbers with -1\n",
    "a"
   ]
  },
  {
   "cell_type": "code",
   "execution_count": 29,
   "id": "5212cfa4",
   "metadata": {},
   "outputs": [
    {
     "data": {
      "text/plain": [
       "array([13,  1, 18, 16, 13,  9])"
      ]
     },
     "execution_count": 29,
     "metadata": {},
     "output_type": "execute_result"
    }
   ],
   "source": [
    "#where(condition,True, False)\n",
    "\n",
    "a = np.random.randint(1,20,6)\n",
    "a"
   ]
  },
  {
   "cell_type": "code",
   "execution_count": 30,
   "id": "9ed4cbf6",
   "metadata": {},
   "outputs": [
    {
     "data": {
      "text/plain": [
       "array([-1, -1, 18, 16, -1, -1])"
      ]
     },
     "execution_count": 30,
     "metadata": {},
     "output_type": "execute_result"
    }
   ],
   "source": [
    "np.where(a%2==1,-1,a)"
   ]
  },
  {
   "cell_type": "code",
   "execution_count": 31,
   "id": "c424dd31",
   "metadata": {},
   "outputs": [
    {
     "data": {
      "text/plain": [
       "array([13,  1, 18, 16, 13,  9])"
      ]
     },
     "execution_count": 31,
     "metadata": {},
     "output_type": "execute_result"
    }
   ],
   "source": [
    "a"
   ]
  },
  {
   "cell_type": "code",
   "execution_count": 32,
   "id": "b0f40adf",
   "metadata": {},
   "outputs": [],
   "source": [
    "out = np.where(a%2==1,-1,a)"
   ]
  },
  {
   "cell_type": "code",
   "execution_count": 33,
   "id": "10cc81f3",
   "metadata": {},
   "outputs": [
    {
     "data": {
      "text/plain": [
       "array([-1, -1, 18, 16, -1, -1])"
      ]
     },
     "execution_count": 33,
     "metadata": {},
     "output_type": "execute_result"
    }
   ],
   "source": [
    "out"
   ]
  },
  {
   "cell_type": "code",
   "execution_count": 34,
   "id": "0080b512",
   "metadata": {},
   "outputs": [
    {
     "data": {
      "text/plain": [
       "array([43, 46, 44, 34, 46, 41, 26, 10, 38,  1])"
      ]
     },
     "execution_count": 34,
     "metadata": {},
     "output_type": "execute_result"
    }
   ],
   "source": [
    "a = np.random.randint(1,50,10)\n",
    "a"
   ]
  },
  {
   "cell_type": "code",
   "execution_count": 36,
   "id": "31249471",
   "metadata": {},
   "outputs": [
    {
     "data": {
      "text/plain": [
       "array([ 1, 10, 26, 34, 38, 41, 43, 44, 46, 46])"
      ]
     },
     "execution_count": 36,
     "metadata": {},
     "output_type": "execute_result"
    }
   ],
   "source": [
    "a = np.sort(a)\n",
    "a"
   ]
  },
  {
   "cell_type": "code",
   "execution_count": 37,
   "id": "d5b9079c",
   "metadata": {},
   "outputs": [
    {
     "data": {
      "text/plain": [
       "28.0"
      ]
     },
     "execution_count": 37,
     "metadata": {},
     "output_type": "execute_result"
    }
   ],
   "source": [
    "np.percentile(a,25)"
   ]
  },
  {
   "cell_type": "code",
   "execution_count": 38,
   "id": "7c20ad54",
   "metadata": {},
   "outputs": [
    {
     "data": {
      "text/plain": [
       "39.5"
      ]
     },
     "execution_count": 38,
     "metadata": {},
     "output_type": "execute_result"
    }
   ],
   "source": [
    "np.percentile(a,50)"
   ]
  },
  {
   "cell_type": "code",
   "execution_count": 39,
   "id": "893b7486",
   "metadata": {},
   "outputs": [
    {
     "data": {
      "text/plain": [
       "46.0"
      ]
     },
     "execution_count": 39,
     "metadata": {},
     "output_type": "execute_result"
    }
   ],
   "source": [
    "np.percentile(a,100)"
   ]
  },
  {
   "cell_type": "code",
   "execution_count": null,
   "id": "4e69cc72",
   "metadata": {},
   "outputs": [],
   "source": []
  }
 ],
 "metadata": {
  "celltoolbar": "Raw Cell Format",
  "kernelspec": {
   "display_name": "Python 3 (ipykernel)",
   "language": "python",
   "name": "python3"
  },
  "language_info": {
   "codemirror_mode": {
    "name": "ipython",
    "version": 3
   },
   "file_extension": ".py",
   "mimetype": "text/x-python",
   "name": "python",
   "nbconvert_exporter": "python",
   "pygments_lexer": "ipython3",
   "version": "3.10.9"
  }
 },
 "nbformat": 4,
 "nbformat_minor": 5
}
